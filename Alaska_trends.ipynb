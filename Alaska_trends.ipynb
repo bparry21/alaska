{
 "cells": [
  {
   "cell_type": "code",
   "execution_count": null,
   "id": "02b15b39-8c66-4389-8215-6eb5fa07eb95",
   "metadata": {},
   "outputs": [],
   "source": [
    "#Packages\n",
    "import pandas as pd\n",
    "import numpy as np\n",
    "import matplotlib.pyplot as plt\n",
    "#import matplotlib.dates as mdates\n",
    "import seaborn as sns\n",
    "#import json\n",
    "import re\n",
    "import os"
   ]
  },
  {
   "cell_type": "code",
   "execution_count": null,
   "id": "c5120220-26c5-49e4-974e-5e54f5f8546b",
   "metadata": {},
   "outputs": [],
   "source": [
    "#Import Alaska data\n",
    "#Putting cols in lowercase and replace spaces\n",
    "def df_col_clnr(df):\n",
    "    for i in df.columns:\n",
    "        txt = re.sub(\" \",\"_\",i)\n",
    "        txt = txt.lower()\n",
    "        if txt == \"booking_class_of_service\":\n",
    "            txt = \"cos\"\n",
    "        df = df.rename(columns={i : txt})\n",
    "        print(txt)\n",
    "    return df\n",
    "df = pd.read_excel(\"Assessment_RM.xlsx\")\n",
    "df = df_col_clnr(df)\n",
    "df[\"cos_cnt\"]=[1 for i in range(len(df))]"
   ]
  },
  {
   "cell_type": "code",
   "execution_count": null,
   "id": "dc85107b-64b1-4997-9406-772918669396",
   "metadata": {},
   "outputs": [],
   "source": [
    "def cos_graph(var,x,y,filt,title):\n",
    "#INPUTS:\n",
    "    #var:dataframe\n",
    "    #x:dependent\n",
    "    #y:independent\n",
    "    #filt:booking cos\n",
    "#OUTPUTS:\n",
    "    #plot for trend line\n",
    "    temp_df = var\n",
    "    if filt != None:\n",
    "        temp_df = var[var['cos'] == filt]\n",
    "    temp_df = temp_df.sort_values(x, ascending=False)\n",
    "    sns.set_style('dark')\n",
    "    plt.figure(figsize = (15,10))\n",
    "    ax = sns.barplot(x = x, y = y, \n",
    "                     data = temp_df, palette = 'cool')\n",
    "    #for container in ax.containers:\n",
    "    #    ax.bar_label(container)\n",
    "    \n",
    "    plt.title('correlation of: {} and {}'.format(x,y))\n",
    "    plt.xticks(rotation = 45)\n",
    "    #plt.savefig(\"{}.jpg\".format(title))\n",
    "    plt.show()"
   ]
  },
  {
   "cell_type": "code",
   "execution_count": null,
   "id": "b40dbd85-6aab-4fa3-93df-9a679692e94a",
   "metadata": {},
   "outputs": [],
   "source": [
    "##1)SHOWS lin trend between tickets sold and revenue earned (linear correlation)\n",
    "total_tx_df = pd.DataFrame({\"flight_date\":df[\"flight_date\"], \"total_tc_cnt\":df[\"cos_cnt\"]})\n",
    "total_tx_df = total_tx_df.groupby(total_tx_df[\"flight_date\"]).sum()\n",
    "total_tx_df = total_tx_df.reset_index(drop=False)\n",
    "\n",
    "total_rev_df = pd.DataFrame({\"flight_date\":df[\"flight_date\"],\n",
    "                       \"total_rev\":df.fare_amount})\n",
    "total_rev_df = total_rev_df.groupby(total_rev_df[\"flight_date\"]).sum()\n",
    "total_rev_df = total_rev_df.reset_index(drop=False)\n",
    "\n",
    "merged_total_rev_df = pd.merge(total_tx_df, total_rev_df, on='flight_date')"
   ]
  },
  {
   "cell_type": "code",
   "execution_count": null,
   "id": "3fce7f15-33a6-4922-8c9e-13772271203e",
   "metadata": {},
   "outputs": [],
   "source": [
    "##2)SHOWS lin trend between total_rev and by cos total rev\n",
    "total_rev_df = pd.DataFrame({\"flight_date\":df[\"flight_date\"],\n",
    "                       \"total_rev\":df.fare_amount})\n",
    "total_rev_df = total_rev_df.groupby(total_rev_df[\"flight_date\"]).sum()\n",
    "total_rev_df = total_rev_df.reset_index(drop=False)\n",
    "\n",
    "cos_rev_sum = pd.DataFrame({\"flight_date\":df.flight_date,\n",
    "                       \"cos\":df.cos,\n",
    "                       \"cos_rev_sum\":df.fare_amount\n",
    "                      })\n",
    "\n",
    "cos_rev_sum = cos_rev_sum.groupby([\"flight_date\",\"cos\"]).sum()\n",
    "cos_rev_sum = cos_rev_sum.reset_index(drop=False)\n",
    "\n",
    "merged_tr_cr_df = pd.merge(total_rev_df, cos_rev_sum, on='flight_date')"
   ]
  },
  {
   "cell_type": "code",
   "execution_count": null,
   "id": "13522d57-baa9-4988-a3db-bee7b1124908",
   "metadata": {},
   "outputs": [],
   "source": [
    "##3)SHOWS lin trend between cos_cnt and sum by cos rev\n",
    "cos_cnt = pd.DataFrame({\"flight_date\":df.flight_date,\n",
    "                       \"cos\":df.cos,\n",
    "                       \"cos_cnt\":df.cos_cnt\n",
    "                      })\n",
    "\n",
    "cos_cnt = cos_cnt.groupby([\"flight_date\",\"cos\"]).sum()\n",
    "\n",
    "cos_cnt = cos_cnt.reset_index(drop=False)\n",
    "\n",
    "merged_cos_sub_df = pd.merge(cos_cnt, cos_rev_sum, on=['flight_date','cos'])"
   ]
  },
  {
   "cell_type": "code",
   "execution_count": null,
   "id": "8856fdb7-bc1d-458d-b1f0-f0cb856317a5",
   "metadata": {},
   "outputs": [],
   "source": [
    "##1)SHOWS lin trend between tickets sold and revenue earned (linear correlation)\n",
    "#dependent total_tc_cnt\n",
    "#independent total_rev\n",
    "cos_graph(merged_total_rev_df,\"total_tc_cnt\",\"total_rev\",None,\"total_tc_rev_trend\")"
   ]
  },
  {
   "cell_type": "code",
   "execution_count": null,
   "id": "24e762d8-77ee-4dff-8899-74b204bdc35b",
   "metadata": {},
   "outputs": [],
   "source": [
    "##2)SHOWS lin trend between total_rev and by cos total rev\n",
    "#dependent total_rev\n",
    "#independent cos_rev_sum\n",
    "cos_graph(merged_tr_cr_df,\"total_rev\",\"cos_rev_sum\",\"N\",\"N_cos_v_total_rev_trend\")"
   ]
  },
  {
   "cell_type": "code",
   "execution_count": null,
   "id": "23f1d96b-0003-461e-a73d-bab37b1fe5a2",
   "metadata": {},
   "outputs": [],
   "source": [
    "##3)SHOWS lin trend between cos_cnt and sum by cos rev\n",
    "#dependent cos_rev_sum\n",
    "#independent cos_cnt\n",
    "cos_graph(merged_cos_sub_df,\"cos_rev_sum\",\"cos_cnt\",\"N\",\"N_cos_cnt_trend\")"
   ]
  },
  {
   "cell_type": "code",
   "execution_count": null,
   "id": "89cff55b-8d1a-4c2b-8c80-98f96df97de2",
   "metadata": {},
   "outputs": [],
   "source": []
  }
 ],
 "metadata": {
  "kernelspec": {
   "display_name": "Python 3 (ipykernel)",
   "language": "python",
   "name": "python3"
  },
  "language_info": {
   "codemirror_mode": {
    "name": "ipython",
    "version": 3
   },
   "file_extension": ".py",
   "mimetype": "text/x-python",
   "name": "python",
   "nbconvert_exporter": "python",
   "pygments_lexer": "ipython3",
   "version": "3.11.2"
  }
 },
 "nbformat": 4,
 "nbformat_minor": 5
}
